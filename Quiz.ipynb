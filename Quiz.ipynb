{
  "nbformat": 4,
  "nbformat_minor": 0,
  "metadata": {
    "colab": {
      "provenance": [],
      "toc_visible": true,
      "authorship_tag": "ABX9TyM1O9Hhtgc/jcSBWcgPxm/0",
      "include_colab_link": true
    },
    "kernelspec": {
      "name": "python3",
      "display_name": "Python 3"
    },
    "language_info": {
      "name": "python"
    }
  },
  "cells": [
    {
      "cell_type": "markdown",
      "metadata": {
        "id": "view-in-github",
        "colab_type": "text"
      },
      "source": [
        "<a href=\"https://colab.research.google.com/github/Riya-1130/Cool_RJ_Projects/blob/main/Quiz.ipynb\" target=\"_parent\"><img src=\"https://colab.research.google.com/assets/colab-badge.svg\" alt=\"Open In Colab\"/></a>"
      ]
    },
    {
      "cell_type": "code",
      "source": [
        "import random\n",
        "\n",
        "def quiz_game():\n",
        "    questions = {\n",
        "        \"What is the capital of France?\": \"paris\",\n",
        "        \"What is 2 + 2?\": \"4\",\n",
        "        \"What is the largest planet in our solar system?\": \"jupiter\",\n",
        "        \"Who wrote 'Romeo and Juliet'?\": \"shakespeare\",\n",
        "        \"What is the chemical symbol for water?\": \"h2o\",\n",
        "        \"Who is the creator of this game?\": \"riya\",\n",
        "        \"What is the largest country in the world by land area?\": \"russia\",\n",
        "        \"Which country is known as the land of spices?\": \"india\",\n",
        "        \"What is the capital of Australia?\": \"canberra\",\n",
        "        \"Who painted the Mona Lisa?\": \"leonardo da vinci\"\n",
        "    }\n",
        "\n",
        "    score = 0\n",
        "\n",
        "    print(\"Welcome to the Quiz Game!\")\n",
        "    print(\"Type your answer and press Enter.\\n\")\n",
        "\n",
        "    # Shuffle the questions\n",
        "    question_items = list(questions.items())\n",
        "    random.shuffle(question_items)\n",
        "\n",
        "    for question, answer in question_items:\n",
        "        user_answer = input(question + \" \").lower()\n",
        "        if user_answer == answer:\n",
        "            print(\"Correct!\\n\")\n",
        "            score += 1\n",
        "        else:\n",
        "            print(f\"Wrong! The correct answer is: {answer}\\n\")\n",
        "\n",
        "    print(f\"Your final score is: {score}/{len(questions)}\")\n",
        "\n",
        "if __name__ == \"__main__\":\n",
        "    quiz_game()"
      ],
      "metadata": {
        "colab": {
          "base_uri": "https://localhost:8080/"
        },
        "id": "bC3NesL-g9r5",
        "outputId": "960a8004-8142-45dc-e5ea-9169d4d430ef"
      },
      "execution_count": 2,
      "outputs": [
        {
          "output_type": "stream",
          "name": "stdout",
          "text": [
            "Welcome to the Quiz Game!\n",
            "Type your answer and press Enter.\n",
            "\n",
            "Who wrote 'Romeo and Juliet'? riya\n",
            "Wrong! The correct answer is: shakespeare\n",
            "\n",
            "What is the largest planet in our solar system? jupitor\n",
            "Wrong! The correct answer is: jupiter\n",
            "\n",
            "What is the capital of Australia? canberra\n",
            "Correct!\n",
            "\n",
            "Which country is known as the land of spices? india\n",
            "Correct!\n",
            "\n",
            "Who painted the Mona Lisa? vinci\n",
            "Wrong! The correct answer is: leonardo da vinci\n",
            "\n",
            "What is 2 + 2? 4\\\n",
            "Wrong! The correct answer is: 4\n",
            "\n",
            "What is the chemical symbol for water? h2o\n",
            "Correct!\n",
            "\n",
            "What is the capital of France? paris\n",
            "Correct!\n",
            "\n",
            "What is the largest country in the world by land area? russia\n",
            "Correct!\n",
            "\n",
            "Who is the creator of this game? riya\n",
            "Correct!\n",
            "\n",
            "Your final score is: 6/10\n"
          ]
        }
      ]
    }
  ]
}